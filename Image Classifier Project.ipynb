version https://git-lfs.github.com/spec/v1
oid sha256:6e5e1839d4d3b24ef08ea2e612e296d1602964d8a92745bcf2e4da458a62ea4b
size 527074
